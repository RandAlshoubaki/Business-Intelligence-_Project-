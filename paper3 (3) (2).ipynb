{
 "cells": [
  {
   "cell_type": "code",
   "execution_count": 1,
   "metadata": {
    "id": "z8FCvQ3FY1UE"
   },
   "outputs": [
    {
     "data": {
      "text/plain": [
       "'\\nSet of weekdays, 𝐻: {𝑖|𝑖=1,…,5}\\nSet of weekend, 𝑆: {𝑖|𝑖=6,7}\\n𝑛 number of days in a schedule, (𝑛=1,…,7)\\n𝑝 number of staffs in a schedule, (𝑝=1,…,50)\\n𝑖 index of days, 𝑖=1,2,…,𝑛\\n𝑗 index of staff, 𝑗=1,2,…,𝑝\\n𝑘 index of departments, 𝑘=1,…,5\\n'"
      ]
     },
     "execution_count": 1,
     "metadata": {},
     "output_type": "execute_result"
    }
   ],
   "source": [
    "'''\n",
    "Set of weekdays, 𝐻: {𝑖|𝑖=1,…,5}\n",
    "Set of weekend, 𝑆: {𝑖|𝑖=6,7}\n",
    "𝑛 number of days in a schedule, (𝑛=1,…,7)\n",
    "𝑝 number of staffs in a schedule, (𝑝=1,…,50)\n",
    "𝑖 index of days, 𝑖=1,2,…,𝑛\n",
    "𝑗 index of staff, 𝑗=1,2,…,𝑝\n",
    "𝑘 index of departments, 𝑘=1,…,5\n",
    "'''"
   ]
  },
  {
   "cell_type": "code",
   "execution_count": 2,
   "metadata": {
    "colab": {
     "base_uri": "https://localhost:8080/"
    },
    "id": "2Zu9GqzbdcnD",
    "outputId": "1615dd60-4d33-41c1-d4d9-9a1f3176dc34"
   },
   "outputs": [],
   "source": [
    "#!pip install cplex\n",
    "#!pip install docplex"
   ]
  },
  {
   "cell_type": "code",
   "execution_count": 3,
   "metadata": {
    "id": "p86gVupHc-FP"
   },
   "outputs": [],
   "source": [
    "from docplex.mp.model import Model\n",
    "\n",
    "m = Model(name='Paper')"
   ]
  },
  {
   "cell_type": "code",
   "execution_count": 4,
   "metadata": {
    "id": "cjiAqo_i87zd"
   },
   "outputs": [],
   "source": [
    "H = [1,2,3,4,5] #weekdays\n",
    "\n",
    "S = [6,7] #weekends\n",
    "\n",
    "n = 7 #days of the week\n",
    "\n",
    "p = 50 #number of employees\n",
    " \n",
    "M = 5 #the maximum number of departments a person can be assigned to in a single shift.\n",
    "\n",
    "K = [1, 2, 3, 4, 5] #departments\n",
    "\n",
    "I = [1,2,3,4,5,6,7] #All days\n",
    "\n",
    "J = [1, 2, 3, 4, 5, 6, 7, 8, 9, 10, 11, 12, 13, 14, 15, 16, 17, 18, 19, 20,\n",
    "     21, 22, 23, 24, 25, 26, 27, 28, 29, 30, 31, 32, 33, 34, 35, 36, 37, 38, 39, 40, 41, 42, 43, 44, 45, 46, 47, 48, 49, 50]\n",
    "\n",
    "a = [4,20,8,12,15] # 𝑎𝒌 weight of department k, 𝑘=1,…,5\n",
    "\n",
    "w1 = 0.7 # 𝑤1 weight of first objective function\n",
    "w2 = 0.3 # 𝑤2 weight of second objective function"
   ]
  },
  {
   "cell_type": "code",
   "execution_count": 5,
   "metadata": {},
   "outputs": [
    {
     "name": "stdout",
     "output_type": "stream",
     "text": [
      "Monday    1 1 1 1 1 0 0 0 0 1 1 1 1 1 1 1 1 0 0 1 \n",
      "Tuesday   1 0 1 1 1 1 0 0 1 1 1 1 1 1 1 1 1 1 1 1 \n",
      "Wednesday 1 1 1 0 1 1 1 1 1 1 1 0 1 1 1 1 1 1 1 1 \n",
      "Thursday  1 1 1 1 1 1 1 1 0 1 1 1 1 1 1 1 1 1 0 0 \n",
      "Friday    0 1 1 1 1 1 1 1 1 0 1 1 1 1 1 1 0 1 1 1 \n"
     ]
    }
   ],
   "source": [
    "# 𝑟 𝑖,𝑗: 0 𝑖𝑓 𝑠𝑡𝑎𝑓𝑓 j 𝑝𝑟𝑒𝑓𝑓𝑒𝑟𝑒𝑑 𝑑𝑎𝑦 𝑖 𝑎𝑠 𝑎 𝑑𝑎𝑦−𝑜𝑓𝑓 1 𝑜.𝑤. (for i in H)\n",
    "\n",
    "import random\n",
    "import numpy as np\n",
    "\n",
    "# Function to get weekday name from index\n",
    "def get_weekday_name(index):\n",
    "    weekdays = ['Monday', 'Tuesday', 'Wednesday', 'Thursday', 'Friday']\n",
    "    return weekdays[index]\n",
    "\n",
    "# Initialize the matrix\n",
    "r = np.ones((5, 50))\n",
    "\n",
    "# Populate the matrix\n",
    "for j in range(50):\n",
    "    zeros_to_place = random.randint(0, 2)\n",
    "    i_values = list(range(5))\n",
    "    random.shuffle(i_values)\n",
    "    for i in i_values[:zeros_to_place]:\n",
    "        r[i][j] = 0\n",
    "\n",
    "\n",
    "for i in range(5):\n",
    "    print(\"{:<10}\".format(get_weekday_name(i)), end=\"\")\n",
    "    for j in range(20):\n",
    "        print(\"{:<2}\".format(int(r[i][j])), end=\"\")\n",
    "    print()\n"
   ]
  },
  {
   "cell_type": "code",
   "execution_count": 6,
   "metadata": {
    "colab": {
     "base_uri": "https://localhost:8080/",
     "height": 70
    },
    "id": "6ffHMp8hrOMh",
    "outputId": "2723d8f7-a04c-44da-9b70-e8dd0a525112"
   },
   "outputs": [
    {
     "data": {
      "text/plain": [
       "'\\nDecision variables:\\n𝑥𝑑 𝑖,𝑗={1,𝑖𝑓 𝑠𝑡𝑎𝑓𝑓 𝑗 𝑖𝑠 𝑎𝑠𝑠𝑖𝑔𝑛𝑒𝑑 𝑡𝑜 𝑑𝑎𝑦 𝑠ℎ𝑖𝑓𝑡 𝑎𝑡 𝑑𝑎𝑦 𝑖 0,𝑜.𝑤.\\n\\n𝑥𝑚 𝑖,𝑗= {1,𝑖𝑓 𝑠𝑡𝑎𝑓𝑓 𝑗 𝑖𝑠 𝑎𝑠𝑠𝑖𝑔𝑛𝑒𝑑 𝑡𝑜 𝑚𝑜𝑟𝑛𝑖𝑛𝑔 𝑠ℎ𝑖𝑓𝑡 𝑎𝑡 𝑑𝑎𝑦 𝑖 0,𝑜.𝑤.\\n\\n𝑥𝑟 𝑖,𝑗= {1,𝑖𝑓 𝑠𝑡𝑎𝑓𝑓 𝑗 𝑖𝑠 𝑜𝑓𝑓 𝑎𝑡 𝑑𝑎𝑦 𝑖 0,𝑜.𝑤.\\n\\n𝑦𝑑 𝑖,𝑗,𝑘= {1,𝑖𝑓 𝑠𝑡𝑎𝑓𝑓 𝑗 𝑖𝑠 𝑎𝑠𝑠𝑖𝑔𝑛𝑒𝑑 𝑡𝑜 𝑘.𝑑𝑒𝑝𝑎𝑟𝑡𝑚𝑒𝑛𝑡 𝑖𝑛 𝑑𝑎𝑦 𝑠ℎ𝑖𝑓𝑡 𝑎𝑡 𝑑𝑎𝑦 𝑖 0, 𝑜.𝑤.\\n\\n𝑦𝑚 𝑖,𝑗,𝑘= {1,𝑖𝑓 𝑠𝑡𝑎𝑓𝑓 𝑗 𝑖𝑠 𝑎𝑠𝑠𝑖𝑔𝑛𝑒𝑑 𝑡𝑜 𝑘.𝑑𝑒𝑝𝑎𝑟𝑡𝑚𝑒𝑛𝑡 𝑖𝑛 𝑚𝑜𝑟𝑛𝑖𝑛𝑔 𝑠ℎ𝑖𝑓𝑡 𝑎𝑡 𝑑𝑎𝑦 𝑖 0, 𝑜.𝑤.\\n\\n𝑡𝑗: 𝑚𝑎𝑥𝑖𝑚𝑢𝑚 𝑡𝑜𝑡𝑎𝑙 𝑤𝑜𝑟𝑘𝑙𝑜𝑎𝑑 𝑎𝑚𝑜𝑢𝑛𝑡 𝑜𝑓 𝑠𝑡𝑎𝑓𝑓 𝑗\\n\\n𝑞𝑗:𝑚𝑎𝑥𝑖𝑚𝑢𝑚 𝑡𝑜𝑡𝑎𝑙 𝑛𝑢𝑚𝑏𝑒𝑟 𝑜𝑓 𝑢𝑛𝑤𝑎𝑛𝑡𝑒𝑑 𝑑𝑎𝑦−𝑜𝑓𝑓 𝑎𝑠𝑠𝑖𝑔𝑛𝑚𝑒𝑛𝑡𝑠 𝑜𝑓 𝑠𝑡𝑎𝑓𝑓 𝑗\\n    '"
      ]
     },
     "execution_count": 6,
     "metadata": {},
     "output_type": "execute_result"
    }
   ],
   "source": [
    "'''\n",
    "Decision variables:\n",
    "𝑥𝑑 𝑖,𝑗={1,𝑖𝑓 𝑠𝑡𝑎𝑓𝑓 𝑗 𝑖𝑠 𝑎𝑠𝑠𝑖𝑔𝑛𝑒𝑑 𝑡𝑜 𝑑𝑎𝑦 𝑠ℎ𝑖𝑓𝑡 𝑎𝑡 𝑑𝑎𝑦 𝑖 0,𝑜.𝑤.\n",
    "\n",
    "𝑥𝑚 𝑖,𝑗= {1,𝑖𝑓 𝑠𝑡𝑎𝑓𝑓 𝑗 𝑖𝑠 𝑎𝑠𝑠𝑖𝑔𝑛𝑒𝑑 𝑡𝑜 𝑚𝑜𝑟𝑛𝑖𝑛𝑔 𝑠ℎ𝑖𝑓𝑡 𝑎𝑡 𝑑𝑎𝑦 𝑖 0,𝑜.𝑤.\n",
    "\n",
    "𝑥𝑟 𝑖,𝑗= {1,𝑖𝑓 𝑠𝑡𝑎𝑓𝑓 𝑗 𝑖𝑠 𝑜𝑓𝑓 𝑎𝑡 𝑑𝑎𝑦 𝑖 0,𝑜.𝑤.\n",
    "\n",
    "𝑦𝑑 𝑖,𝑗,𝑘= {1,𝑖𝑓 𝑠𝑡𝑎𝑓𝑓 𝑗 𝑖𝑠 𝑎𝑠𝑠𝑖𝑔𝑛𝑒𝑑 𝑡𝑜 𝑘.𝑑𝑒𝑝𝑎𝑟𝑡𝑚𝑒𝑛𝑡 𝑖𝑛 𝑑𝑎𝑦 𝑠ℎ𝑖𝑓𝑡 𝑎𝑡 𝑑𝑎𝑦 𝑖 0, 𝑜.𝑤.\n",
    "\n",
    "𝑦𝑚 𝑖,𝑗,𝑘= {1,𝑖𝑓 𝑠𝑡𝑎𝑓𝑓 𝑗 𝑖𝑠 𝑎𝑠𝑠𝑖𝑔𝑛𝑒𝑑 𝑡𝑜 𝑘.𝑑𝑒𝑝𝑎𝑟𝑡𝑚𝑒𝑛𝑡 𝑖𝑛 𝑚𝑜𝑟𝑛𝑖𝑛𝑔 𝑠ℎ𝑖𝑓𝑡 𝑎𝑡 𝑑𝑎𝑦 𝑖 0, 𝑜.𝑤.\n",
    "\n",
    "𝑡𝑗: 𝑚𝑎𝑥𝑖𝑚𝑢𝑚 𝑡𝑜𝑡𝑎𝑙 𝑤𝑜𝑟𝑘𝑙𝑜𝑎𝑑 𝑎𝑚𝑜𝑢𝑛𝑡 𝑜𝑓 𝑠𝑡𝑎𝑓𝑓 𝑗\n",
    "\n",
    "𝑞𝑗:𝑚𝑎𝑥𝑖𝑚𝑢𝑚 𝑡𝑜𝑡𝑎𝑙 𝑛𝑢𝑚𝑏𝑒𝑟 𝑜𝑓 𝑢𝑛𝑤𝑎𝑛𝑡𝑒𝑑 𝑑𝑎𝑦−𝑜𝑓𝑓 𝑎𝑠𝑠𝑖𝑔𝑛𝑚𝑒𝑛𝑡𝑠 𝑜𝑓 𝑠𝑡𝑎𝑓𝑓 𝑗\n",
    "    '''"
   ]
  },
  {
   "cell_type": "code",
   "execution_count": 7,
   "metadata": {
    "id": "wji5Qxm1diID"
   },
   "outputs": [],
   "source": [
    "# 2D matrix [day i][staff j] day shift\n",
    "xd = [[m.binary_var(name=\"xd_{0}_{1}\".format(i, j)) for j in J] for i in I]\n",
    "\n",
    "# 2D matrix [day i][staff j] morning shift\n",
    "xm = [[m.binary_var(name=\"xm_{0}_{1}\".format(i, j)) for j in J] for i in I]\n",
    "\n",
    "# 2D matrix [day i][staff j] off day\n",
    "xr = [[m.binary_var(name=\"xr_{0}_{1}\".format(i, j)) for j in J] for i in I]\n",
    "\n",
    "# 3D matrix [day i][staff j][department k] day shift\n",
    "yd = [[[m.binary_var(name=\"yd_{0}_{1}_{2}\".format(i, j, k)) for k in K] for j in J] for i in I]\n",
    "\n",
    "# 3D matrix [day i][staff j][department k] morning shift\n",
    "ym = [[[m.binary_var(name=\"ym_{0}_{1}_{2}\".format(i, j, k)) for k in K] for j in J] for i in I]\n",
    "\n",
    "\n",
    "# 1D array [staff j] 𝑚𝑎𝑥𝑖𝑚𝑢𝑚 𝑡𝑜𝑡𝑎𝑙 𝑤𝑜𝑟𝑘𝑙𝑜𝑎𝑑 𝑎𝑚𝑜𝑢𝑛𝑡 𝑜𝑓 𝑠𝑡𝑎𝑓𝑓 𝑗\n",
    "t = [m.integer_var(name=\"t_{0}\".format(j)) for j in J]\n",
    "\n",
    "# 1D array [staff j] 𝑚𝑎𝑥𝑖𝑚𝑢𝑚 𝑡𝑜𝑡𝑎𝑙 𝑛𝑢𝑚𝑏𝑒𝑟 𝑜𝑓 𝑢𝑛𝑤𝑎𝑛𝑡𝑒𝑑 𝑑𝑎𝑦_𝑜𝑓𝑓 𝑎𝑠𝑠𝑖𝑔𝑛𝑚𝑒𝑛𝑡𝑠 𝑜𝑓 𝑠𝑡𝑎𝑓𝑓 𝑗\n",
    "q = [m.integer_var(name=\"q_{0}\".format(j)) for j in J]"
   ]
  },
  {
   "cell_type": "code",
   "execution_count": 8,
   "metadata": {
    "id": "vyP07nZ_gFJX"
   },
   "outputs": [],
   "source": [
    "'''Constraints'''\n",
    "\n",
    "for i in range(len(H)): # H: weekdays\n",
    "    for j in range(len(J)):\n",
    "        m.add_constraint(m.sum(xd[i][j] + xm[i][j] + xr[i][j]) == 1) # a person will be off on a weekday; if he is not off so either work in the morning or afternoon shift.\n",
    "\n",
    "for i in range(len(S)): #S: weekend\n",
    "    for j in range(len(J)):\n",
    "        m.add_constraint(m.sum(xd[i][j] + xm[i][j]) == 1) # a person to work either in the morning or in the afternoon shift at the weekend.\n",
    "\n",
    "for j in range(len(J)):\n",
    "  m.add_constraint(m.sum(xr[i][j] for i in range(len(H))) == 1) # each person is allowed to use only one day-off per week.\n",
    "\n",
    "for k in range(len(K)):\n",
    "    for i in range(len(I)):\n",
    "      m.add_constraint(m.sum(yd[i][j][k] for j in range(len(J))) >= 1) # in the day shift, at least one person is assigned to each department.\n",
    "\n",
    "for k in range(len(K)):\n",
    "    for i in range(len(I)):\n",
    "      m.add_constraint(m.sum(ym[i][j][k] for j in range(len(J))) >= 1) # in the morning shift, at least one person is assigned to each department.\n",
    "\n",
    "# constraints (7), (8), (9) and (10) the assignment of up to 5 departments in the morning and day shifts per person in per day is protected\n",
    "# by 𝑥𝑑 𝑖,𝑗,  𝑦𝑑 𝑖𝑗𝑘 𝑎𝑛𝑑 𝑥𝑚 𝑖,𝑗,  𝑦𝑚 𝑖𝑗𝑘 decision variables.\n",
    "\n",
    "for i in range(len(I)):\n",
    "  for j in range(len(J)):\n",
    "    m.add_constraint(xd[i][j] <= m.sum(yd[i][j][k] for k in range(len(K))))\n",
    "\n",
    "for i in range(len(I)):\n",
    "  for j in range(len(J)):\n",
    "    m.add_constraint(xm[i][j] <= m.sum(ym[i][j][k] for k in range(len(K))))\n",
    "\n",
    "for i in range(len(I)):\n",
    "  for j in range(len(J)):\n",
    "    m.add_constraint(m.sum(yd[i][j][k] for k in range(len(K))) <= M * xd[i][j])\n",
    "\n",
    "for i in range(len(I)):\n",
    "  for j in range(len(J)):\n",
    "    m.add_constraint(m.sum(ym[i][j][k] for k in range(len(K))) <= M * xm[i][j])\n",
    "\n",
    "\n",
    "# the constraint that required to provide a balanced workload. The maximum workload per person is 𝑡𝑗.\n",
    "\n",
    "for j in range(len(J)):\n",
    "  m.add_constraint(m.sum(m.sum(a[k] * (yd[i][j][k] + ym[i][j][k]) for k in range(len(K))) for i in range(len(I))) <= t[j])\n",
    "\n",
    "\n",
    "# The constraint enforces that each staff member is assigned to one shift on their unwanted days-off.\n",
    "# minimizing the total 𝑞𝑗, the assignments to unwanted days-off are minimized.\n",
    "\n",
    "for j in range(len(J)):\n",
    "  m.add_constraint(m.sum((xd[i][j] + xm[i][j]) * r[i][j] for i in range(len(H))) <= q[j])"
   ]
  },
  {
   "cell_type": "code",
   "execution_count": 9,
   "metadata": {
    "id": "T90BGQ58u3OH"
   },
   "outputs": [],
   "source": [
    "m.minimize(w1 * (m.sum(t[j] for j in range(len(J))))/780 + w2 * (m.sum(q[j] for j in range(len(J))))/50)"
   ]
  },
  {
   "cell_type": "code",
   "execution_count": 10,
   "metadata": {
    "colab": {
     "base_uri": "https://localhost:8080/",
     "height": 442
    },
    "id": "r2Q-UqUH76hR",
    "outputId": "ede4f9ff-387a-4f37-c378-870e3542c3eb"
   },
   "outputs": [
    {
     "data": {
      "text/plain": [
       "docplex.mp.solution.SolveSolution(obj=2.22774,values={xd_1_5:1,xd_1_9:1,.."
      ]
     },
     "execution_count": 10,
     "metadata": {},
     "output_type": "execute_result"
    }
   ],
   "source": [
    "m.export_as_lp(\"Paper.lp\")\n",
    "\n",
    "m.solve()"
   ]
  },
  {
   "cell_type": "code",
   "execution_count": 11,
   "metadata": {
    "id": "keEAmwNc8QWb"
   },
   "outputs": [
    {
     "name": "stdout",
     "output_type": "stream",
     "text": [
      "Objective Value 2.2277435897435898\n"
     ]
    }
   ],
   "source": [
    "# Print the results or perform further analysis\n",
    "print(\"Objective Value\", m.objective_value)"
   ]
  },
  {
   "cell_type": "code",
   "execution_count": 12,
   "metadata": {},
   "outputs": [
    {
     "name": "stdout",
     "output_type": "stream",
     "text": [
      "Values of t:\n",
      "t_1: 16.0\n",
      "t_2: 27.0\n",
      "t_3: 16.0\n",
      "t_4: 16.0\n",
      "t_5: 32.0\n",
      "t_6: 32.0\n",
      "t_7: 32.0\n",
      "t_8: 16.0\n",
      "t_9: 16.0\n",
      "t_10: 31.0\n",
      "t_11: 20.0\n",
      "t_12: 35.0\n",
      "t_13: 16.0\n",
      "t_14: 32.0\n",
      "t_15: 27.0\n",
      "t_16: 24.0\n",
      "t_17: 27.0\n",
      "t_18: 32.0\n",
      "t_19: 16.0\n",
      "t_20: 28.0\n",
      "t_21: 16.0\n",
      "t_22: 40.0\n",
      "t_23: 20.0\n",
      "t_24: 32.0\n",
      "t_25: 47.0\n",
      "t_26: 20.0\n",
      "t_27: 27.0\n",
      "t_28: 16.0\n",
      "t_29: 16.0\n",
      "t_30: 16.0\n",
      "t_31: 35.0\n",
      "t_32: 36.0\n",
      "t_33: 16.0\n",
      "t_34: 24.0\n",
      "t_35: 20.0\n",
      "t_36: 16.0\n",
      "t_37: 32.0\n",
      "t_38: 27.0\n",
      "t_39: 16.0\n",
      "t_40: 32.0\n",
      "t_41: 16.0\n",
      "t_42: 16.0\n",
      "t_43: 27.0\n",
      "t_44: 16.0\n",
      "t_45: 24.0\n",
      "t_46: 16.0\n",
      "t_47: 32.0\n",
      "t_48: 16.0\n",
      "t_49: 76.0\n",
      "t_50: 192.0\n",
      "Values of q:\n",
      "q_1: 3.0\n",
      "q_2: 3.0\n",
      "q_3: 4.0\n",
      "q_4: 3.0\n",
      "q_5: 4.0\n",
      "q_6: 3.0\n",
      "q_7: 2.0\n",
      "q_8: 2.0\n",
      "q_9: 2.0\n",
      "q_10: 3.0\n",
      "q_11: 4.0\n",
      "q_12: 3.0\n",
      "q_13: 4.0\n",
      "q_14: 4.0\n",
      "q_15: 4.0\n",
      "q_16: 4.0\n",
      "q_17: 3.0\n",
      "q_18: 3.0\n",
      "q_19: 2.0\n",
      "q_20: 3.0\n",
      "q_21: 2.0\n",
      "q_22: 2.0\n",
      "q_23: 3.0\n",
      "q_24: 4.0\n",
      "q_25: 2.0\n",
      "q_26: 3.0\n",
      "q_27: 2.0\n",
      "q_28: 3.0\n",
      "q_29: 4.0\n",
      "q_30: 4.0\n",
      "q_31: 4.0\n",
      "q_32: 4.0\n",
      "q_33: 3.0\n",
      "q_34: 3.0\n",
      "q_35: 4.0\n",
      "q_36: 4.0\n",
      "q_37: 3.0\n",
      "q_38: 4.0\n",
      "q_39: 2.0\n",
      "q_40: 3.0\n",
      "q_41: 4.0\n",
      "q_42: 4.0\n",
      "q_43: 4.0\n",
      "q_44: 2.0\n",
      "q_45: 2.0\n",
      "q_46: 3.0\n",
      "q_47: 2.0\n",
      "q_48: 4.0\n",
      "q_49: 4.0\n",
      "q_50: 3.0\n"
     ]
    }
   ],
   "source": [
    "# Print the values of decision variables t\n",
    "print(\"Values of t:\")\n",
    "for var in m.iter_variables():\n",
    "    if var.name.startswith('t'):\n",
    "        print(f\"{var.to_string()}: {var.solution_value}\")\n",
    "\n",
    "# Print the values of decision variables q\n",
    "print(\"Values of q:\")\n",
    "for var in m.iter_variables():\n",
    "    if var.name.startswith('q'):\n",
    "        print(f\"{var.to_string()}: {var.solution_value}\")"
   ]
  },
  {
   "cell_type": "code",
   "execution_count": 13,
   "metadata": {},
   "outputs": [],
   "source": [
    "#!pip install pareto"
   ]
  },
  {
   "cell_type": "code",
   "execution_count": 14,
   "metadata": {},
   "outputs": [
    {
     "data": {
      "image/png": "[encoded data removed]",
      "text/plain": [
       "<Figure size 432x288 with 1 Axes>"
      ]
     },
     "metadata": {
      "needs_background": "light"
     },
     "output_type": "display_data"
    }
   ],
   "source": [
    "import matplotlib.pyplot as plt\n",
    "\n",
    "# Extract the values of decision variables t and q\n",
    "values_t = [var.solution_value for var in m.iter_variables() if var.name.startswith('t')]\n",
    "values_q = [var.solution_value for var in m.iter_variables() if var.name.startswith('q')]\n",
    "\n",
    "# Combine t and q values into a list of tuples\n",
    "combined_values = list(zip(values_q, values_t))\n",
    "\n",
    "# Identify Pareto solutions\n",
    "pareto_solutions = []\n",
    "for i, (q1, t1) in enumerate(combined_values):\n",
    "    is_pareto = all(\n",
    "        not (q2 < q1 and t2 < t1) for q2, t2 in combined_values[:i] + combined_values[i + 1:]\n",
    "    )\n",
    "    if is_pareto:\n",
    "        pareto_solutions.append((q1, t1))\n",
    "\n",
    "# Unzip the filtered solutions back into separate lists\n",
    "pareto_values_q, pareto_values_t = zip(*pareto_solutions)\n",
    "\n",
    "# Create a scatter plot for Pareto solutions\n",
    "plt.scatter(pareto_values_q, pareto_values_t)\n",
    "plt.xlabel('q Values')\n",
    "plt.ylabel('t Values')\n",
    "plt.title('Scatter Plot of Pareto Solutions')\n",
    "\n",
    "# Set integer x-axis labels\n",
    "plt.xticks(list(map(int, plt.xticks()[0])))\n",
    "plt.show()"
   ]
  }
 ],
 "metadata": {
  "colab": {
   "provenance": []
  },
  "kernelspec": {
   "display_name": "Python 3",
   "language": "python",
   "name": "python3"
  },
  "language_info": {
   "codemirror_mode": {
    "name": "ipython",
    "version": 3
   },
   "file_extension": ".py",
   "mimetype": "text/x-python",
   "name": "python",
   "nbconvert_exporter": "python",
   "pygments_lexer": "ipython3",
   "version": "3.8.5"
  }
 },
 "nbformat": 4,
 "nbformat_minor": 1
}
